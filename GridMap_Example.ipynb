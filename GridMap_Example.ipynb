{
  "nbformat": 4,
  "nbformat_minor": 0,
  "metadata": {
    "colab": {
      "provenance": []
    },
    "kernelspec": {
      "name": "python3",
      "display_name": "Python 3"
    },
    "language_info": {
      "name": "python"
    }
  },
  "cells": [
    {
      "cell_type": "code",
      "execution_count": 2,
      "metadata": {
        "colab": {
          "base_uri": "https://localhost:8080/"
        },
        "id": "7c7xx6vxSuu9",
        "outputId": "c1c9a942-29c3-4769-f316-d0d9b575ab2e"
      },
      "outputs": [
        {
          "output_type": "stream",
          "name": "stdout",
          "text": [
            "0.00 0.00 0.00 0.00 0.00\n",
            "0.00 0.00 0.80 0.00 0.00\n",
            "0.00 0.00 0.00 0.00 0.00\n",
            "0.00 0.00 0.00 0.60 0.00\n",
            "0.00 0.00 0.00 0.00 0.00\n"
          ]
        }
      ],
      "source": [
        "class GridMap:\n",
        "    def __init__(self, width, height):\n",
        "        self.width = width\n",
        "        self.height = height\n",
        "        self.grid = [[0.0 for _ in range(width)] for _ in range(height)]  # Initialize all cells with zero probability\n",
        "\n",
        "    def update_cell(self, x, y, probability):\n",
        "        if 0 <= x < self.width and 0 <= y < self.height:\n",
        "            self.grid[y][x] = probability\n",
        "\n",
        "    def print_map(self):\n",
        "        for row in self.grid:\n",
        "            print(\" \".join(f\"{prob:.2f}\" for prob in row))\n",
        "\n",
        "\n",
        "# Create a 5x5 grid map\n",
        "map_width = 5\n",
        "map_height = 5\n",
        "grid_map = GridMap(map_width, map_height)\n",
        "\n",
        "# Update some cells with higher probabilities to represent landmarks or obstacles\n",
        "grid_map.update_cell(2, 1, 0.8)  # High probability for a landmark\n",
        "grid_map.update_cell(3, 3, 0.6)  # Medium probability for an obstacle\n",
        "\n",
        "# Print the map\n",
        "grid_map.print_map()"
      ]
    },
    {
      "cell_type": "code",
      "source": [
        "import matplotlib.pyplot as plt\n",
        "\n",
        "class GridMap:\n",
        "    def __init__(self, width, height):\n",
        "        self.width = width\n",
        "        self.height = height\n",
        "        self.grid = [[0.0 for _ in range(width)] for _ in range(height)]\n",
        "\n",
        "    def update_cell(self, x, y, probability):\n",
        "        if 0 <= x < self.width and 0 <= y < self.height:\n",
        "            self.grid[y][x] = probability\n",
        "\n",
        "    def plot_map(self):\n",
        "        plt.imshow(self.grid, cmap='coolwarm', interpolation='none')\n",
        "        plt.colorbar()\n",
        "        plt.show()\n",
        "\n",
        "\n",
        "# Create a 5x5 grid map\n",
        "map_width = 5\n",
        "map_height = 5\n",
        "grid_map = GridMap(map_width, map_height)\n",
        "\n",
        "# Update some cells with higher probabilities to represent landmarks or obstacles\n",
        "grid_map.update_cell(2, 1, 0.8)  # High probability for a landmark\n",
        "grid_map.update_cell(3, 3, 0.6)  # Medium probability for an obstacle\n",
        "\n",
        "# Plot the map\n",
        "grid_map.plot_map()\n"
      ],
      "metadata": {
        "colab": {
          "base_uri": "https://localhost:8080/",
          "height": 435
        },
        "id": "kNeQJktSTWCH",
        "outputId": "2e27575c-f5f5-4e59-fb96-d1bc5a2a6b1a"
      },
      "execution_count": 5,
      "outputs": [
        {
          "output_type": "display_data",
          "data": {
            "text/plain": [
              "<Figure size 640x480 with 2 Axes>"
            ],
            "image/png": "[encoded data removed]"
          },
          "metadata": {}
        }
      ]
    }
  ]
}